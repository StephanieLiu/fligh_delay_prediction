{
 "cells": [
  {
   "attachments": {},
   "cell_type": "markdown",
   "id": "7a560953-e136-4108-98f9-38aa55d69cb2",
   "metadata": {},
   "source": [
    "# The data\n",
    "The dataset is open sourced data from Kaggle. \\\n",
    "data sample: https://www.kaggle.com/datasets/patrickzel/flight-delay-and-cancellation-dataset-2019-2023?resource=download&select=flights_sample_3m.csv \\\n",
    "full data: https://www.kaggle.com/code/alperenkaran/visualization-of-flight-delays/input"
   ]
  },
  {
   "cell_type": "code",
   "execution_count": 33,
   "id": "ff1a78a7-c892-4bce-8f28-57fbe087c08b",
   "metadata": {},
   "outputs": [],
   "source": [
    "import pandas as pd\n",
    "import numpy as np\n",
    "\n",
    "import seaborn as sns"
   ]
  },
  {
   "cell_type": "code",
   "execution_count": 34,
   "id": "1d1f9618-9247-4fc7-9ad3-38f85395e129",
   "metadata": {},
   "outputs": [],
   "source": [
    "sample_data = True\n",
    "if sample_data == True:\n",
    "    df_flt = pd.read_csv('./data/flight/flights_sample_3m.csv',encoding=\"utf-8\")\n",
    "else:\n",
    "    data_list = []\n",
    "    for year in range(2019, 2024):\n",
    "        df_year = pd.read_csv(f'./data/flight/{year}.csv',encoding=\"utf-8\")\n",
    "        data_list.append(df_year)\n",
    "        del df_year\n",
    "    df_flt = pd.concat(data_list).reset_index(drop = True)"
   ]
  },
  {
   "cell_type": "markdown",
   "id": "d1b9d859-704c-4af6-aa12-b0bf0ce01e06",
   "metadata": {},
   "source": [
    "## Check missing values and duplications"
   ]
  },
  {
   "cell_type": "code",
   "execution_count": 35,
   "id": "ac240f47-9fd1-4f65-ae32-51338f48a995",
   "metadata": {},
   "outputs": [
    {
     "data": {
      "text/html": [
       "<div>\n",
       "<style scoped>\n",
       "    .dataframe tbody tr th:only-of-type {\n",
       "        vertical-align: middle;\n",
       "    }\n",
       "\n",
       "    .dataframe tbody tr th {\n",
       "        vertical-align: top;\n",
       "    }\n",
       "\n",
       "    .dataframe thead th {\n",
       "        text-align: right;\n",
       "    }\n",
       "</style>\n",
       "<table border=\"1\" class=\"dataframe\">\n",
       "  <thead>\n",
       "    <tr style=\"text-align: right;\">\n",
       "      <th></th>\n",
       "      <th>Missing Values</th>\n",
       "      <th>Missing %age</th>\n",
       "      <th>Datatype</th>\n",
       "    </tr>\n",
       "  </thead>\n",
       "  <tbody>\n",
       "    <tr>\n",
       "      <th>CANCELLATION_CODE</th>\n",
       "      <td>2920860</td>\n",
       "      <td>97.362%</td>\n",
       "      <td>object</td>\n",
       "    </tr>\n",
       "    <tr>\n",
       "      <th>DELAY_DUE_LATE_AIRCRAFT</th>\n",
       "      <td>2466137</td>\n",
       "      <td>82.2046%</td>\n",
       "      <td>float64</td>\n",
       "    </tr>\n",
       "    <tr>\n",
       "      <th>DELAY_DUE_SECURITY</th>\n",
       "      <td>2466137</td>\n",
       "      <td>82.2046%</td>\n",
       "      <td>float64</td>\n",
       "    </tr>\n",
       "    <tr>\n",
       "      <th>DELAY_DUE_NAS</th>\n",
       "      <td>2466137</td>\n",
       "      <td>82.2046%</td>\n",
       "      <td>float64</td>\n",
       "    </tr>\n",
       "    <tr>\n",
       "      <th>DELAY_DUE_WEATHER</th>\n",
       "      <td>2466137</td>\n",
       "      <td>82.2046%</td>\n",
       "      <td>float64</td>\n",
       "    </tr>\n",
       "    <tr>\n",
       "      <th>DELAY_DUE_CARRIER</th>\n",
       "      <td>2466137</td>\n",
       "      <td>82.2046%</td>\n",
       "      <td>float64</td>\n",
       "    </tr>\n",
       "    <tr>\n",
       "      <th>AIR_TIME</th>\n",
       "      <td>86198</td>\n",
       "      <td>2.8733%</td>\n",
       "      <td>float64</td>\n",
       "    </tr>\n",
       "    <tr>\n",
       "      <th>ELAPSED_TIME</th>\n",
       "      <td>86198</td>\n",
       "      <td>2.8733%</td>\n",
       "      <td>float64</td>\n",
       "    </tr>\n",
       "    <tr>\n",
       "      <th>ARR_DELAY</th>\n",
       "      <td>86198</td>\n",
       "      <td>2.8733%</td>\n",
       "      <td>float64</td>\n",
       "    </tr>\n",
       "    <tr>\n",
       "      <th>WHEELS_ON</th>\n",
       "      <td>79944</td>\n",
       "      <td>2.6648%</td>\n",
       "      <td>float64</td>\n",
       "    </tr>\n",
       "    <tr>\n",
       "      <th>TAXI_IN</th>\n",
       "      <td>79944</td>\n",
       "      <td>2.6648%</td>\n",
       "      <td>float64</td>\n",
       "    </tr>\n",
       "    <tr>\n",
       "      <th>ARR_TIME</th>\n",
       "      <td>79942</td>\n",
       "      <td>2.6647%</td>\n",
       "      <td>float64</td>\n",
       "    </tr>\n",
       "    <tr>\n",
       "      <th>TAXI_OUT</th>\n",
       "      <td>78806</td>\n",
       "      <td>2.6269%</td>\n",
       "      <td>float64</td>\n",
       "    </tr>\n",
       "    <tr>\n",
       "      <th>WHEELS_OFF</th>\n",
       "      <td>78806</td>\n",
       "      <td>2.6269%</td>\n",
       "      <td>float64</td>\n",
       "    </tr>\n",
       "    <tr>\n",
       "      <th>DEP_DELAY</th>\n",
       "      <td>77644</td>\n",
       "      <td>2.5881%</td>\n",
       "      <td>float64</td>\n",
       "    </tr>\n",
       "    <tr>\n",
       "      <th>DEP_TIME</th>\n",
       "      <td>77615</td>\n",
       "      <td>2.5872%</td>\n",
       "      <td>float64</td>\n",
       "    </tr>\n",
       "    <tr>\n",
       "      <th>CRS_ELAPSED_TIME</th>\n",
       "      <td>14</td>\n",
       "      <td>0.0005%</td>\n",
       "      <td>float64</td>\n",
       "    </tr>\n",
       "    <tr>\n",
       "      <th>ORIGIN_CITY</th>\n",
       "      <td>0</td>\n",
       "      <td>0.0%</td>\n",
       "      <td>object</td>\n",
       "    </tr>\n",
       "    <tr>\n",
       "      <th>AIRLINE_DOT</th>\n",
       "      <td>0</td>\n",
       "      <td>0.0%</td>\n",
       "      <td>object</td>\n",
       "    </tr>\n",
       "    <tr>\n",
       "      <th>AIRLINE_CODE</th>\n",
       "      <td>0</td>\n",
       "      <td>0.0%</td>\n",
       "      <td>object</td>\n",
       "    </tr>\n",
       "    <tr>\n",
       "      <th>DOT_CODE</th>\n",
       "      <td>0</td>\n",
       "      <td>0.0%</td>\n",
       "      <td>int64</td>\n",
       "    </tr>\n",
       "    <tr>\n",
       "      <th>FL_NUMBER</th>\n",
       "      <td>0</td>\n",
       "      <td>0.0%</td>\n",
       "      <td>int64</td>\n",
       "    </tr>\n",
       "    <tr>\n",
       "      <th>DISTANCE</th>\n",
       "      <td>0</td>\n",
       "      <td>0.0%</td>\n",
       "      <td>float64</td>\n",
       "    </tr>\n",
       "    <tr>\n",
       "      <th>ORIGIN</th>\n",
       "      <td>0</td>\n",
       "      <td>0.0%</td>\n",
       "      <td>object</td>\n",
       "    </tr>\n",
       "    <tr>\n",
       "      <th>DEST</th>\n",
       "      <td>0</td>\n",
       "      <td>0.0%</td>\n",
       "      <td>object</td>\n",
       "    </tr>\n",
       "    <tr>\n",
       "      <th>DIVERTED</th>\n",
       "      <td>0</td>\n",
       "      <td>0.0%</td>\n",
       "      <td>float64</td>\n",
       "    </tr>\n",
       "    <tr>\n",
       "      <th>CANCELLED</th>\n",
       "      <td>0</td>\n",
       "      <td>0.0%</td>\n",
       "      <td>float64</td>\n",
       "    </tr>\n",
       "    <tr>\n",
       "      <th>DEST_CITY</th>\n",
       "      <td>0</td>\n",
       "      <td>0.0%</td>\n",
       "      <td>object</td>\n",
       "    </tr>\n",
       "    <tr>\n",
       "      <th>CRS_ARR_TIME</th>\n",
       "      <td>0</td>\n",
       "      <td>0.0%</td>\n",
       "      <td>int64</td>\n",
       "    </tr>\n",
       "    <tr>\n",
       "      <th>AIRLINE</th>\n",
       "      <td>0</td>\n",
       "      <td>0.0%</td>\n",
       "      <td>object</td>\n",
       "    </tr>\n",
       "    <tr>\n",
       "      <th>CRS_DEP_TIME</th>\n",
       "      <td>0</td>\n",
       "      <td>0.0%</td>\n",
       "      <td>int64</td>\n",
       "    </tr>\n",
       "    <tr>\n",
       "      <th>FL_DATE</th>\n",
       "      <td>0</td>\n",
       "      <td>0.0%</td>\n",
       "      <td>object</td>\n",
       "    </tr>\n",
       "  </tbody>\n",
       "</table>\n",
       "</div>"
      ],
      "text/plain": [
       "                         Missing Values Missing %age Datatype\n",
       "CANCELLATION_CODE               2920860      97.362%   object\n",
       "DELAY_DUE_LATE_AIRCRAFT         2466137     82.2046%  float64\n",
       "DELAY_DUE_SECURITY              2466137     82.2046%  float64\n",
       "DELAY_DUE_NAS                   2466137     82.2046%  float64\n",
       "DELAY_DUE_WEATHER               2466137     82.2046%  float64\n",
       "DELAY_DUE_CARRIER               2466137     82.2046%  float64\n",
       "AIR_TIME                          86198      2.8733%  float64\n",
       "ELAPSED_TIME                      86198      2.8733%  float64\n",
       "ARR_DELAY                         86198      2.8733%  float64\n",
       "WHEELS_ON                         79944      2.6648%  float64\n",
       "TAXI_IN                           79944      2.6648%  float64\n",
       "ARR_TIME                          79942      2.6647%  float64\n",
       "TAXI_OUT                          78806      2.6269%  float64\n",
       "WHEELS_OFF                        78806      2.6269%  float64\n",
       "DEP_DELAY                         77644      2.5881%  float64\n",
       "DEP_TIME                          77615      2.5872%  float64\n",
       "CRS_ELAPSED_TIME                     14      0.0005%  float64\n",
       "ORIGIN_CITY                           0         0.0%   object\n",
       "AIRLINE_DOT                           0         0.0%   object\n",
       "AIRLINE_CODE                          0         0.0%   object\n",
       "DOT_CODE                              0         0.0%    int64\n",
       "FL_NUMBER                             0         0.0%    int64\n",
       "DISTANCE                              0         0.0%  float64\n",
       "ORIGIN                                0         0.0%   object\n",
       "DEST                                  0         0.0%   object\n",
       "DIVERTED                              0         0.0%  float64\n",
       "CANCELLED                             0         0.0%  float64\n",
       "DEST_CITY                             0         0.0%   object\n",
       "CRS_ARR_TIME                          0         0.0%    int64\n",
       "AIRLINE                               0         0.0%   object\n",
       "CRS_DEP_TIME                          0         0.0%    int64\n",
       "FL_DATE                               0         0.0%   object"
      ]
     },
     "execution_count": 35,
     "metadata": {},
     "output_type": "execute_result"
    }
   ],
   "source": [
    "# check missing values\n",
    "miss_ser = df_flt.isna().sum()\n",
    "\n",
    "miss_val = pd.DataFrame({\n",
    "    'Missing Values':miss_ser.values,\n",
    "    'Missing %age':round((miss_ser/df_flt.shape[0])*100,4).astype(str) + '%',\n",
    "    'Datatype':df_flt.dtypes\n",
    "})\n",
    "\n",
    "miss_val.sort_values(by='Missing %age', ascending=False)"
   ]
  },
  {
   "cell_type": "code",
   "execution_count": 36,
   "id": "1ee5279e-2563-41ea-ba39-53fdfaa41717",
   "metadata": {},
   "outputs": [
    {
     "data": {
      "text/plain": [
       "True"
      ]
     },
     "execution_count": 36,
     "metadata": {},
     "output_type": "execute_result"
    }
   ],
   "source": [
    "# check duplicates\n",
    "len(df_flt) == len(df_flt.drop_duplicates())"
   ]
  },
  {
   "cell_type": "code",
   "execution_count": 37,
   "id": "ce96b693",
   "metadata": {},
   "outputs": [],
   "source": [
    "def preprocess(df):\n",
    "    orig_count = df.shape[0]\n",
    "    # remove cancelled flights and diverted flights\n",
    "    df = df.loc[(df[\"CANCELLED\"]==0)&(df[\"DIVERTED\"]==0)]\n",
    "    # remove records with important feature missing\n",
    "    df = df.dropna(subset = [\"AIR_TIME\",\"ARR_TIME\",\"DEP_TIME\"])\n",
    "    print(f\"{(100*(orig_count - df.shape[0])/orig_count):.2f} % of data are removed.\")\n",
    "    \n",
    "    # convert fl_date to date \n",
    "    if df[\"FL_DATE\"].dtype == \"object\":\n",
    "        df[\"FL_DATE\"] = pd.to_datetime(df[\"FL_DATE\"], format = \"%Y-%m-%d\")\n",
    "    \n",
    "    return df"
   ]
  },
  {
   "cell_type": "code",
   "execution_count": 38,
   "id": "9633758c",
   "metadata": {},
   "outputs": [
    {
     "name": "stdout",
     "output_type": "stream",
     "text": [
      "2.87 % of data are removed.\n"
     ]
    }
   ],
   "source": [
    "df_flt_clean = preprocess(df_flt)"
   ]
  },
  {
   "cell_type": "markdown",
   "id": "e754400b",
   "metadata": {},
   "source": [
    "## Add Additional features (month, day of week, departure hour)"
   ]
  },
  {
   "cell_type": "code",
   "execution_count": null,
   "id": "75f30cdc",
   "metadata": {},
   "outputs": [],
   "source": [
    "def add_additional_features(df):\n",
    "    df[\"flt_month\"] = df[\"FL_DATE\"].dt.month\n",
    "    df[\"flt_day_of_week\"] = df[\"FL_DATE\"].dt.dayofweek\n",
    "    df[\"schd_dep_hour\"] = df[\"CRS_DEP_TIME\"].astype(\"str\").str[:-2]\n",
    "    df.loc[df[\"schd_dep_hour\"]==\"\", \"schd_dep_hour\"] = \"0\"\n",
    "    return df"
   ]
  },
  {
   "cell_type": "code",
   "execution_count": 40,
   "id": "52585698-c56e-4a44-9797-64805e481e6e",
   "metadata": {},
   "outputs": [],
   "source": [
    "df_flt_clean = add_additional_features(df_flt_clean)"
   ]
  },
  {
   "cell_type": "markdown",
   "id": "6d63130b",
   "metadata": {},
   "source": [
    "## Check distribution of features"
   ]
  },
  {
   "cell_type": "code",
   "execution_count": 24,
   "id": "cd17c2b9-3219-434e-bec0-1cd7be451487",
   "metadata": {},
   "outputs": [],
   "source": [
    "def check_box_plot(df, col_to_check, cat_col=None): \n",
    "    if col_to_check not in df.select_dtypes(include=np.number).columns.tolist():\\\n",
    "        print(\"col_to_check should be numeric\")\n",
    "    else:\n",
    "        if cat_col == None:\n",
    "            sns.boxplot(data=df, y=col_to_check)\n",
    "        elif df[cat_col].dtype == \"object\":\n",
    "            sns.boxplot(data=df, x= cat_col, y=col_to_check)\n",
    "        else:\n",
    "            print(\"cat_col should be a categorical column\")\n"
   ]
  },
  {
   "cell_type": "code",
   "execution_count": 25,
   "id": "69d5c439",
   "metadata": {},
   "outputs": [
    {
     "data": {
      "image/png": "[encoded data removed]",
      "text/plain": [
       "<Figure size 640x480 with 1 Axes>"
      ]
     },
     "metadata": {},
     "output_type": "display_data"
    }
   ],
   "source": [
    "check_box_plot(df_flt_clean, \"ARR_DELAY\")"
   ]
  },
  {
   "cell_type": "code",
   "execution_count": 50,
   "id": "bb3f9489",
   "metadata": {},
   "outputs": [
    {
     "data": {
      "image/png": "[encoded data removed]",
      "text/plain": [
       "<Figure size 640x480 with 1 Axes>"
      ]
     },
     "metadata": {},
     "output_type": "display_data"
    }
   ],
   "source": [
    "check_box_plot(df_flt_clean, \"ARR_DELAY\", \"schd_dep_hour\")"
   ]
  }
 ],
 "metadata": {
  "kernelspec": {
   "display_name": "base",
   "language": "python",
   "name": "python3"
  },
  "language_info": {
   "codemirror_mode": {
    "name": "ipython",
    "version": 3
   },
   "file_extension": ".py",
   "mimetype": "text/x-python",
   "name": "python",
   "nbconvert_exporter": "python",
   "pygments_lexer": "ipython3",
   "version": "3.12.7"
  }
 },
 "nbformat": 4,
 "nbformat_minor": 5
}
